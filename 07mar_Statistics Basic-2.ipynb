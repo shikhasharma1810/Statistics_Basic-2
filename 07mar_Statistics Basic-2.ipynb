{
 "cells": [
  {
   "cell_type": "code",
   "execution_count": null,
   "id": "ba7e3797-653a-4497-98c7-24fb535915b5",
   "metadata": {},
   "outputs": [],
   "source": [
    "Q1. What are the three measures of central tendency?\n",
    "\n",
    "Measures of Central Tendency:\n",
    "\n",
    "a. Mean or average: we see mean from 2 perspectives- population mean(N) and sample mean(n).\n",
    "b. Median: sort the random variables, count no. of elements(if no. of elements=even then median is average of both numbers and\n",
    "if no. of elements=odd then central no. is median)\n",
    "c. Mode: maximum frequency"
   ]
  },
  {
   "cell_type": "code",
   "execution_count": null,
   "id": "a3193b66-fd65-46d4-9f2e-3701c66e35bb",
   "metadata": {},
   "outputs": [],
   "source": [
    "Q2. What is the difference between the mean, median, and mode? How are they used to measure the\n",
    "central tendency of a dataset?\n",
    "\n",
    "Central tendency refers to identifying the central position of the given data set. \n",
    "Central tendency has 3 important measures that are Mean, Median, and Mode. \n",
    "Mean is the average of a given data set, median is the middlemost data value and the mode \n",
    "represents the most frequently occurring data value in the set."
   ]
  },
  {
   "cell_type": "code",
   "execution_count": null,
   "id": "189c5a81-a76d-4105-8f54-27949d4514e5",
   "metadata": {},
   "outputs": [],
   "source": [
    "Q3. Measure the three measures of central tendency for the given height data:\n",
    "[178,177,176,177,178.2,178,175,179,180,175,178.9,176.2,177,172.5,178,176.5]"
   ]
  },
  {
   "cell_type": "code",
   "execution_count": 1,
   "id": "2946d5cd-1977-4f5d-b1f6-b3d99c8eac02",
   "metadata": {},
   "outputs": [],
   "source": [
    "height = [178,177,176,177,178.2,178,175,179,180,175,178.9,176.2,177,172.5,178,176.5]"
   ]
  },
  {
   "cell_type": "code",
   "execution_count": 9,
   "id": "60f84cb0-6efd-4010-9d9b-14ee3eabf2ce",
   "metadata": {},
   "outputs": [
    {
     "data": {
      "text/plain": [
       "177.01875"
      ]
     },
     "execution_count": 9,
     "metadata": {},
     "output_type": "execute_result"
    }
   ],
   "source": [
    "import numpy as np\n",
    "np.mean(height)"
   ]
  },
  {
   "cell_type": "code",
   "execution_count": 10,
   "id": "882e9396-0e66-4837-9b04-9a570f73ef2a",
   "metadata": {},
   "outputs": [
    {
     "data": {
      "text/plain": [
       "177.0"
      ]
     },
     "execution_count": 10,
     "metadata": {},
     "output_type": "execute_result"
    }
   ],
   "source": [
    "np.median(height)"
   ]
  },
  {
   "cell_type": "code",
   "execution_count": 16,
   "id": "ccd44027-7878-4b88-b45a-96e372af1427",
   "metadata": {},
   "outputs": [],
   "source": [
    "from scipy import stats"
   ]
  },
  {
   "cell_type": "code",
   "execution_count": 17,
   "id": "50bddf53-c39f-4474-a3c7-e714a0131907",
   "metadata": {},
   "outputs": [
    {
     "name": "stderr",
     "output_type": "stream",
     "text": [
      "/tmp/ipykernel_84/1690947930.py:1: FutureWarning: Unlike other reduction functions (e.g. `skew`, `kurtosis`), the default behavior of `mode` typically preserves the axis it acts along. In SciPy 1.11.0, this behavior will change: the default value of `keepdims` will become False, the `axis` over which the statistic is taken will be eliminated, and the value None will no longer be accepted. Set `keepdims` to True or False to avoid this warning.\n",
      "  stats.mode(height)\n"
     ]
    },
    {
     "data": {
      "text/plain": [
       "ModeResult(mode=array([177.]), count=array([3]))"
      ]
     },
     "execution_count": 17,
     "metadata": {},
     "output_type": "execute_result"
    }
   ],
   "source": [
    "stats.mode(height)"
   ]
  },
  {
   "cell_type": "code",
   "execution_count": null,
   "id": "378ed079-a53e-4e27-8d53-fbbd75c3e449",
   "metadata": {},
   "outputs": [],
   "source": [
    "Q4. Find the standard deviation for the given data:\n",
    "[178,177,176,177,178.2,178,175,179,180,175,178.9,176.2,177,172.5,178,176.5]"
   ]
  },
  {
   "cell_type": "code",
   "execution_count": 18,
   "id": "e0d80120-4479-4072-b4a6-e6e4a2fbebdb",
   "metadata": {},
   "outputs": [
    {
     "data": {
      "text/plain": [
       "1.7885814036548633"
      ]
     },
     "execution_count": 18,
     "metadata": {},
     "output_type": "execute_result"
    }
   ],
   "source": [
    "np.std(height)"
   ]
  },
  {
   "cell_type": "code",
   "execution_count": null,
   "id": "e966f3d1-6a7d-41aa-b4d0-1ab2450371ca",
   "metadata": {},
   "outputs": [],
   "source": [
    "Q5. How are measures of dispersion such as range, variance, and standard deviation used to describe\n",
    "the spread of a dataset? Provide an example.\n",
    "\n",
    "The dispersion, which is also called scatter is measured on the basis of the type of chosen central \n",
    "tendency and the observations available to us. These measures tell us how much the observations are \n",
    "varied or similar to each other. \n",
    "\n",
    "Ex- 10, 14, 8, 10, 15, 4, 7\n",
    "Minimum value in data = 7 \n",
    "Maximum Value in the data = 15\n",
    "Range = Maximum Value in the data – Minimum value in the data  \n",
    "           = 15 – 7 \n",
    "           = 8 "
   ]
  },
  {
   "cell_type": "code",
   "execution_count": null,
   "id": "444bcb8a-5612-449d-897e-e3ebe5688901",
   "metadata": {},
   "outputs": [],
   "source": [
    "Q6. What is a Venn diagram?\n",
    "\n",
    "A Venn diagram is a graph that uses overlapping circles to visually represent the logical relationship\n",
    "between two or more sets of items. The circles that overlap have a commonality, while the circles that \n",
    "do not overlap do not share those traits. Venn diagrams are also called set diagrams or logic diagrams. "
   ]
  },
  {
   "cell_type": "code",
   "execution_count": null,
   "id": "a5a79f67-dd25-4d0d-92e6-a700563f8e62",
   "metadata": {},
   "outputs": [],
   "source": [
    "Q7. For the two given sets A = (2,3,4,5,6,7) & B = (0,2,6,8,10). Find:\n",
    "(i) A ∩ B = (2,6)\n",
    "(ii) A ⋃ B = (0,2,3,4,5,6,7,8,10)"
   ]
  },
  {
   "cell_type": "code",
   "execution_count": null,
   "id": "742fa59f-3c1c-4f35-bd43-ac5972687d4f",
   "metadata": {},
   "outputs": [],
   "source": [
    "Q8. What do you understand about skewness in data?\n",
    "\n",
    "Skewness is a statistical measure that shows how far a distribution deviates from a normal distribution. \n",
    "It can be defined as an irregularity or twist in a set of data that is shifted to the right or left, creating\n",
    "a skewed curve. A symmetrical distribution has the same values for the mean, median, and mode, and the skewness\n",
    "value is zero. Negative or positive values indicate the direction of the tail."
   ]
  },
  {
   "cell_type": "code",
   "execution_count": null,
   "id": "6c861512-ed5c-453f-a209-35995fad666b",
   "metadata": {},
   "outputs": [],
   "source": [
    "Q9. If a data is right skewed then what will be the position of median with respect to mean?\n",
    "\n",
    "Mean > Median > Mode"
   ]
  },
  {
   "cell_type": "code",
   "execution_count": null,
   "id": "6a9034ac-ad5c-48be-8607-865a11468214",
   "metadata": {},
   "outputs": [],
   "source": [
    "Q10. Explain the difference between covariance and correlation. How are these measures used in\n",
    "statistical analysis?\n",
    "\n",
    "Covariance reveals how two variables change together while correlation determines how closely two \n",
    "variables are related to each other.\n",
    "Both covariance and correlation measure the relationship and the dependency between two variables.\n",
    "Covariance indicates the direction of the linear relationship between variables.\n",
    "Correlation measures both the strength and direction of the linear relationship between two variables."
   ]
  },
  {
   "cell_type": "code",
   "execution_count": null,
   "id": "0dff6026-4378-4019-aacf-af11a2986359",
   "metadata": {},
   "outputs": [],
   "source": [
    "Q11. What is the formula for calculating the sample mean? Provide an example calculation for a\n",
    "dataset.\n",
    "\n",
    "The formula for calculating the sample mean is given by x̄ = ( Σ xi ) / n. \n",
    "Here, x̄ represents the sample mean, xi refers all X sample values and n stands for the number\n",
    "of sample terms in the data set.\n",
    "\n",
    "Ex: Find the sample mean of 60, 57, 109, 50.\n",
    "\n",
    "Solution: \n",
    "\n",
    "Sum of terms = 60 + 57 + 109 + 50 = 276\n",
    "Number of terms = 4\n",
    "mean = (sum of terms)/(number of terms)\n",
    "mean = 276/4 = 69"
   ]
  },
  {
   "cell_type": "code",
   "execution_count": null,
   "id": "7cf700c7-fc06-4410-8ceb-76ffb3a51310",
   "metadata": {},
   "outputs": [],
   "source": [
    "Q12. For a normal distribution data what is the relationship between its measure of central tendency?\n",
    "\n",
    "In a normal distribution, data is symmetrically distributed with no skew.The mean, mode and \n",
    "median are exactly the same in a normal distribution."
   ]
  },
  {
   "cell_type": "code",
   "execution_count": null,
   "id": "ec7a2c46-5517-4b11-9f53-00650fb4e84f",
   "metadata": {},
   "outputs": [],
   "source": [
    "Q13. How is covariance different from correlation?\n",
    "\n",
    "Covariance reveals how two variables change together while correlation determines how closely two \n",
    "variables are related to each other."
   ]
  },
  {
   "cell_type": "code",
   "execution_count": null,
   "id": "8b336d12-6722-42d1-838f-b2c1b02e470c",
   "metadata": {},
   "outputs": [],
   "source": [
    "Q14. How do outliers affect measures of central tendency and dispersion? Provide an example.\n",
    "\n",
    "Mean is the measure of central tendency affected most by the outliers. Mean increases with the\n",
    "high outlier and decreases with the low outlier.\n",
    "\n",
    "Ex- The values are 10,13,13,17,100.\n",
    "The mean will be 153/6 = 30.6\n",
    "The median will be 13\n",
    "The mode will be 13\n",
    "\n",
    "From the above example, we can interpret that the mean is the only measure of central tendency affected by outliers."
   ]
  }
 ],
 "metadata": {
  "kernelspec": {
   "display_name": "Python 3 (ipykernel)",
   "language": "python",
   "name": "python3"
  },
  "language_info": {
   "codemirror_mode": {
    "name": "ipython",
    "version": 3
   },
   "file_extension": ".py",
   "mimetype": "text/x-python",
   "name": "python",
   "nbconvert_exporter": "python",
   "pygments_lexer": "ipython3",
   "version": "3.10.8"
  }
 },
 "nbformat": 4,
 "nbformat_minor": 5
}
